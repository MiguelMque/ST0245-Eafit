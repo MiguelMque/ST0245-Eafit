{
  "nbformat": 4,
  "nbformat_minor": 0,
  "metadata": {
    "colab": {
      "name": "data_cleaning_and_filtering.ipynb",
      "provenance": [],
      "collapsed_sections": [],
      "toc_visible": true
    },
    "kernelspec": {
      "name": "python3",
      "display_name": "Python 3"
    }
  },
  "cells": [
    {
      "cell_type": "code",
      "metadata": {
        "id": "qSLxPlkGZo3D",
        "colab_type": "code",
        "outputId": "bf5395a5-28fc-463b-900c-ee35917fbc37",
        "colab": {
          "base_uri": "https://localhost:8080/",
          "height": 34
        }
      },
      "source": [
        "'''\n",
        "Dataset files creations for Data Structures and Algorithms course's project.\n",
        "\n",
        "Miguel Ángel Correa Manrique\n",
        "'''\n",
        "import pandas as pd\n",
        "import numpy as np\n",
        "from sklearn.model_selection import train_test_split\n",
        "\n",
        "from google.colab import drive\n",
        "drive.mount('/content/drive')"
      ],
      "execution_count": 0,
      "outputs": [
        {
          "output_type": "stream",
          "text": [
            "Drive already mounted at /content/drive; to attempt to forcibly remount, call drive.mount(\"/content/drive\", force_remount=True).\n"
          ],
          "name": "stdout"
        }
      ]
    },
    {
      "cell_type": "code",
      "metadata": {
        "id": "RaY6hwfzkzJo",
        "colab_type": "code",
        "colab": {}
      },
      "source": [
        "df = pd.read_csv('/content/drive/My Drive/EAFIT/Data Structures and Algorithms I/saber_combined_all_fields.csv')"
      ],
      "execution_count": 0,
      "outputs": []
    },
    {
      "cell_type": "code",
      "metadata": {
        "id": "C1xgDnoLkldI",
        "colab_type": "code",
        "colab": {}
      },
      "source": [
        "#Columns Saber Pro\n",
        "columns_pro = \"ESTU_TIPODOCUMENTO¬ESTU_NACIONALIDAD¬ESTU_GENERO¬ESTU_FECHANACIMIENTO¬PERIODO¬ESTU_CONSECUTIVO¬ESTU_ESTUDIANTE¬ESTU_PAIS_RESIDE¬ESTU_DEPTO_RESIDE¬ESTU_COD_RESIDE_DEPTO¬ESTU_MCPIO_RESIDE¬ESTU_COD_RESIDE_MCPIO¬ESTU_ESTADOCIVIL¬ESTU_GRADUO_BACHILLER¬ESTU_FECHAGRADOBACHILLER¬ESTU_MES_TERMINOBACHILLER¬ESTU_ANO_TERMINOBACHILLER¬ESTU_COLE_TERMINO¬ESTU_CODDANE_COLE_TERMINO¬ESTU_COD_COLE_MCPIO_TERMINO¬ESTU_OTROCOLE_TERMINO¬ESTU_TITULOOBTENIDOBACHILLER¬ESTU_ANO_EXAMENESTADO_SB11¬ESTU_SEMESTRE_EXAMENESTADOSB11¬ESTU_PORCENTAJECREDITOSAPROB¬ESTU_VALORMATRICULAUNIVERSIDAD¬ESTU_PAGOMATRICULABECA¬ESTU_PAGOMATRICULACREDITO¬ESTU_PAGOMATRICULAPADRES¬ESTU_PAGOMATRICULAPROPIO¬ESTU_TIPODOCUMENTOSB11¬ESTU_SEMESTRECURSA¬ESTU_ULTIMOGRADOAPROBO¬ESTU_ANOTERMINOULTIMOGRADO¬ESTU_VECESPRESENTOEXAMEN¬FAMI_HOGARACTUAL¬FAMI_CABEZAFAMILIA¬FAMI_NUMPERSONASACARGO¬FAMI_EDUCACIONPADRE¬FAMI_EDUCACIONMADRE¬FAMI_OCUPACIONPADRE¬FAMI_OCUPACIONMADRE¬FAMI_ESTRATOVIVIENDA¬FAMI_NIVEL_SISBEN¬FAMI_PERSONASHOGAR¬FAMI_CUARTOSHOGAR¬FAMI_PISOS_HOGAR¬FAMI_TIENEINTERNET¬FAMI_TIENE_SERVICIOTV¬FAMI_TIENECOMPUTADOR¬FAMI_TIENELAVADORA¬FAMI_TIENE_MICROONDAS¬FAMI_TIENE_HORNO¬FAMI_TIENEAUTOMOVIL¬FAMI_TIENE_DVD¬FAMI_TIENE_NEVERA¬FAMI_TIENE_CELULAR¬FAMI_TELEFONO¬FAMI_INGRESO_FMILIAR_MENSUAL¬ESTU_TRABAJA_ACTUALMENTE¬ESTU_HORASSEMANATRABAJA¬INST_COD_INSTITUCION¬INST_NOMBRE_INSTITUCION¬ESTU_PRGM_ACADEMICO¬ESTU_SNIES_PRGMACADEMICO¬GRUPOREFERENCIA¬ESTU_PRGM_CODMUNICIPIO¬ESTU_PRGM_MUNICIPIO¬ESTU_PRGM_DEPARTAMENTO¬ESTU_NIVEL_PRGM_ACADEMICO¬ESTU_METODO_PRGM¬ESTU_NUCLEO_PREGRADO¬ESTU_INST_CODMUNICIPIO¬ESTU_INST_MUNICIPIO¬ESTU_INST_DEPARTAMENTO¬INST_CARACTER_ACADEMICO¬INST_ORIGEN¬ESTU_PRIVADO_LIBERTAD¬ESTU_COD_MCPIO_PRESENTACION¬ESTU_MCPIO_PRESENTACION¬ESTU_DEPTO_PRESENTACION¬ESTU_COD_DEPTO_PRESENTACION¬MOD_RAZONA_CUANTITAT_PUNT¬MOD_LECTURA_CRITICA_PUNT¬MOD_COMPETEN_CIUDADA_PUNT¬MOD_INGLES_PUNT¬MOD_INGLES_DESEM¬MOD_COMUNI_ESCRITA_PUNT¬MOD_COMUNI_ESCRITA_DESEM¬ESTU_ESTADOINVESTIGACION\"\n",
        "columns_pro = columns_pro.lower()\n",
        "columns_pro = columns_pro.split('¬')\n",
        "\n",
        "#Score Columns Saber Pro\n",
        "punt_columns_ = ['MOD_RAZONA_CUANTITAT_PUNT',\n",
        " 'MOD_LECTURA_CRITICA_PUNT',\n",
        " 'MOD_COMPETEN_CIUDADA_PUNT',\n",
        " 'MOD_INGLES_PUNT',\n",
        " 'MOD_COMUNI_ESCRITA_PUNT', 'PERIODO']\n",
        "\n",
        "punt_columns_pro = [x.lower() for x in punt_columns_]\n",
        "\n",
        "#To Drop\n",
        "columns_drop = [x for x in columns_pro if x not in punt_columns_pro and x in df.columns]\n",
        "\n",
        "#DataFrame just Saber 11 and Scores from Saber Pro\n",
        "df_mod = df.drop(columns=columns_drop)\n",
        "\n",
        "punt_columns_ = ['MOD_RAZONA_CUANTITAT_PUNT',\n",
        " 'MOD_LECTURA_CRITICA_PUNT',\n",
        " 'MOD_COMPETEN_CIUDADA_PUNT',\n",
        " 'MOD_INGLES_PUNT',\n",
        " 'MOD_COMUNI_ESCRITA_PUNT']\n",
        "\n",
        "punt_columns_pro = [x.lower() for x in punt_columns_]\n"
      ],
      "execution_count": 0,
      "outputs": []
    },
    {
      "cell_type": "code",
      "metadata": {
        "id": "inW5yp2dwNy-",
        "colab_type": "code",
        "outputId": "4e740276-6aa3-412e-fdc2-e7676cc9baff",
        "colab": {
          "base_uri": "https://localhost:8080/",
          "height": 425
        }
      },
      "source": [
        "#To calculate fairly the mean of each period cannot be allowed miss values\n",
        "df_no_na = df_mod.dropna(subset=punt_columns_pro)\n",
        "df_no_na['sum'] = df_no_na[punt_columns_pro].sum(axis=1)\n",
        "\n",
        "#Calculating mean per period\n",
        "mean_series = df_no_na.groupby('periodo')['sum'].mean()\n",
        "\n",
        "df_no_na['mean'] = 0\n",
        "\n",
        "for i, v in mean_series.iteritems():\n",
        "  df_no_na.loc[df_no_na['periodo'] == i, 'mean'] = v\n",
        "\n",
        "df_no_na['exito'] = df_no_na.apply(lambda x: 1 if x['mean'] <= x['sum'] else 0, axis=1)\n",
        "\n",
        "del df_no_na['mean']\n",
        "del df_no_na['sum']\n",
        "\n"
      ],
      "execution_count": 0,
      "outputs": [
        {
          "output_type": "stream",
          "text": [
            "/usr/local/lib/python3.6/dist-packages/ipykernel_launcher.py:2: SettingWithCopyWarning: \n",
            "A value is trying to be set on a copy of a slice from a DataFrame.\n",
            "Try using .loc[row_indexer,col_indexer] = value instead\n",
            "\n",
            "See the caveats in the documentation: http://pandas.pydata.org/pandas-docs/stable/user_guide/indexing.html#returning-a-view-versus-a-copy\n",
            "  \n",
            "/usr/local/lib/python3.6/dist-packages/ipykernel_launcher.py:7: SettingWithCopyWarning: \n",
            "A value is trying to be set on a copy of a slice from a DataFrame.\n",
            "Try using .loc[row_indexer,col_indexer] = value instead\n",
            "\n",
            "See the caveats in the documentation: http://pandas.pydata.org/pandas-docs/stable/user_guide/indexing.html#returning-a-view-versus-a-copy\n",
            "  import sys\n",
            "/usr/local/lib/python3.6/dist-packages/pandas/core/indexing.py:494: SettingWithCopyWarning: \n",
            "A value is trying to be set on a copy of a slice from a DataFrame.\n",
            "Try using .loc[row_indexer,col_indexer] = value instead\n",
            "\n",
            "See the caveats in the documentation: http://pandas.pydata.org/pandas-docs/stable/user_guide/indexing.html#returning-a-view-versus-a-copy\n",
            "  self.obj[item] = s\n",
            "/usr/local/lib/python3.6/dist-packages/ipykernel_launcher.py:12: SettingWithCopyWarning: \n",
            "A value is trying to be set on a copy of a slice from a DataFrame.\n",
            "Try using .loc[row_indexer,col_indexer] = value instead\n",
            "\n",
            "See the caveats in the documentation: http://pandas.pydata.org/pandas-docs/stable/user_guide/indexing.html#returning-a-view-versus-a-copy\n",
            "  if sys.path[0] == '':\n"
          ],
          "name": "stderr"
        }
      ]
    },
    {
      "cell_type": "code",
      "metadata": {
        "id": "B6mBu0okTIeA",
        "colab_type": "code",
        "colab": {}
      },
      "source": [
        "#Periods with more than 16000 samples\n",
        "relevant_years = list(df_no_na['periodo'].value_counts().index[:5])\n",
        "final_df = df_no_na[df_no_na['periodo'].isin(relevant_years)]\n",
        "del final_df['Unnamed: 0']\n",
        "final_df.set_index('estu_consecutivo.1', inplace=True)"
      ],
      "execution_count": 0,
      "outputs": []
    },
    {
      "cell_type": "code",
      "metadata": {
        "id": "mxe4qJIjCy6H",
        "colab_type": "code",
        "outputId": "d833ed56-a41c-459e-db13-c05dbb2a6b33",
        "colab": {
          "base_uri": "https://localhost:8080/",
          "height": 1000
        }
      },
      "source": [
        "#Test if ; could be a possible delimeter\n",
        "test = final_df.select_dtypes([np.object]).apply(lambda x: x.str.contains(';').any())\n",
        "test"
      ],
      "execution_count": 0,
      "outputs": [
        {
          "output_type": "execute_result",
          "data": {
            "text/plain": [
              "estu_exterior                    False\n",
              "estu_tieneetnia                  False\n",
              "estu_tomo_cursopreparacion       False\n",
              "estu_cursodocentesies            False\n",
              "estu_cursoiesapoyoexterno        False\n",
              "estu_cursoiesexterna             False\n",
              "estu_simulacrotipoicfes          False\n",
              "estu_actividadrefuerzoareas      False\n",
              "estu_actividadrefuerzogeneric    False\n",
              "fami_trabajolaborpadre           False\n",
              "fami_trabajolabormadre           False\n",
              "fami_numlibros                   False\n",
              "estu_tipodocumento.1             False\n",
              "estu_nacionalidad.1              False\n",
              "estu_genero.1                    False\n",
              "estu_fechanacimiento.1           False\n",
              "estu_estudiante.1                False\n",
              "estu_pais_reside.1               False\n",
              "estu_depto_reside.1              False\n",
              "estu_mcpio_reside.1              False\n",
              "estu_areareside                  False\n",
              "estu_valorpensioncolegio         False\n",
              "fami_educacionpadre.1            False\n",
              "fami_educacionmadre.1            False\n",
              "fami_ocupacionpadre.1            False\n",
              "fami_ocupacionmadre.1            False\n",
              "fami_estratovivienda.1           False\n",
              "fami_nivelsisben                 False\n",
              "fami_pisoshogar                  False\n",
              "fami_tieneinternet.1             False\n",
              "fami_tienecomputador.1           False\n",
              "fami_tienemicroondas             False\n",
              "fami_tienehorno                  False\n",
              "fami_tieneautomovil.1            False\n",
              "fami_tienedvd                    False\n",
              "fami_tiene_nevera.1              False\n",
              "fami_tiene_celular.1             False\n",
              "fami_telefono.1                  False\n",
              "fami_ingresofmiliarmensual       False\n",
              "estu_trabajaactualmente          False\n",
              "estu_antecedentes                False\n",
              "estu_expectativas                False\n",
              "cole_nombre_establecimiento      False\n",
              "cole_genero                      False\n",
              "cole_naturaleza                  False\n",
              "cole_calendario                  False\n",
              "cole_bilingue                    False\n",
              "cole_caracter                    False\n",
              "cole_nombre_sede                 False\n",
              "cole_sede_principal              False\n",
              "cole_area_ubicacion              False\n",
              "cole_jornada                     False\n",
              "cole_mcpio_ubicacion             False\n",
              "cole_depto_ubicacion             False\n",
              "desemp_ingles                    False\n",
              "profundiza                       False\n",
              "desemp_prof                      False\n",
              "dtype: bool"
            ]
          },
          "metadata": {
            "tags": []
          },
          "execution_count": 66
        }
      ]
    },
    {
      "cell_type": "code",
      "metadata": {
        "id": "ILJNg8jw1KE-",
        "colab_type": "code",
        "outputId": "ee26ee4c-2ffb-47d2-a68f-0a8794df981a",
        "colab": {
          "base_uri": "https://localhost:8080/",
          "height": 187
        }
      },
      "source": [
        "#Removing last columns of pro used for calculate greater-equal or less than mean ['exito']\n",
        "for x in punt_columns_pro:\n",
        "  del final_df[x]\n",
        "\n",
        "number_undersampling = 7702\n",
        "\n",
        "extremely_balanced = pd.DataFrame(columns=final_df.columns)\n",
        "\n",
        "#Undersampling for balanced by period\n",
        "for x in relevant_years:\n",
        "  temp_df = final_df.loc[final_df['periodo'] == x]\n",
        "  shuffled_df = temp_df.sample(frac=1,random_state=4)\n",
        "  success_df = shuffled_df.loc[shuffled_df['exito'] == 1].sample(n=number_undersampling,random_state=42)\n",
        "  fail_df = shuffled_df.loc[shuffled_df['exito'] == 0].sample(n=number_undersampling,random_state=42)\n",
        "\n",
        "  extremely_balanced = pd.concat([extremely_balanced, fail_df, success_df])\n",
        "\n",
        "target = extremely_balanced['exito'].copy()\n",
        "del extremely_balanced['exito']\n",
        "\n",
        "X_train, X_test, y_train, y_test = train_test_split(extremely_balanced, target)\n",
        "X_train['exito'] = y_train\n",
        "X_test['exito'] = y_test\n",
        "X_train.to_csv('/content/drive/My Drive/EAFIT/Data Structures and Algorithms I/5_train_balanced_' + str(X_train.shape[0]) + '.csv', sep=';')\n",
        "X_test.to_csv('/content/drive/My Drive/EAFIT/Data Structures and Algorithms I/5_test_balanced_' + str(X_test.shape[0]) + '.csv', sep=';')\n"
      ],
      "execution_count": 0,
      "outputs": [
        {
          "output_type": "stream",
          "text": [
            "/usr/local/lib/python3.6/dist-packages/ipykernel_launcher.py:21: SettingWithCopyWarning: \n",
            "A value is trying to be set on a copy of a slice from a DataFrame.\n",
            "Try using .loc[row_indexer,col_indexer] = value instead\n",
            "\n",
            "See the caveats in the documentation: http://pandas.pydata.org/pandas-docs/stable/user_guide/indexing.html#returning-a-view-versus-a-copy\n",
            "/usr/local/lib/python3.6/dist-packages/ipykernel_launcher.py:22: SettingWithCopyWarning: \n",
            "A value is trying to be set on a copy of a slice from a DataFrame.\n",
            "Try using .loc[row_indexer,col_indexer] = value instead\n",
            "\n",
            "See the caveats in the documentation: http://pandas.pydata.org/pandas-docs/stable/user_guide/indexing.html#returning-a-view-versus-a-copy\n"
          ],
          "name": "stderr"
        }
      ]
    },
    {
      "cell_type": "code",
      "metadata": {
        "id": "zr7cVKIW3Kb1",
        "colab_type": "code",
        "outputId": "5dc02653-bbb3-4821-cab5-b15af7d13162",
        "colab": {
          "base_uri": "https://localhost:8080/",
          "height": 221
        }
      },
      "source": [
        "#Undersampling no period\n",
        "count = 0\n",
        "for i in range(10000, 95000, 20000):\n",
        "  shuffled_df = final_df.sample(frac=1,random_state=4)\n",
        "  success_df = shuffled_df.loc[shuffled_df['exito'] == 1].sample(n=i,random_state=42)\n",
        "  fail_df = shuffled_df.loc[shuffled_df['exito'] == 0].sample(n=i,random_state=42)\n",
        "\n",
        "  temp_df = pd.concat([success_df, fail_df])\n",
        "  target = temp_df['exito'].copy()\n",
        "  del temp_df['exito']\n",
        "\n",
        "  X_train, X_test, y_train, y_test = train_test_split(temp_df, target)\n",
        "  X_train['exito'] = y_train\n",
        "  X_test['exito'] = y_test\n",
        "  X_train.to_csv('/content/drive/My Drive/EAFIT/Data Structures and Algorithms I/'+ str(count) +'_train_balanced_' + str(X_train.shape[0]) + '.csv', sep=';')\n",
        "  X_test.to_csv('/content/drive/My Drive/EAFIT/Data Structures and Algorithms I/'+str(count)+'_test_balanced_' + str(X_test.shape[0]) + '.csv', sep=';')\n",
        "  count += 1"
      ],
      "execution_count": 0,
      "outputs": [
        {
          "output_type": "stream",
          "text": [
            "/usr/local/lib/python3.6/dist-packages/ipykernel_launcher.py:12: SettingWithCopyWarning: \n",
            "A value is trying to be set on a copy of a slice from a DataFrame.\n",
            "Try using .loc[row_indexer,col_indexer] = value instead\n",
            "\n",
            "See the caveats in the documentation: http://pandas.pydata.org/pandas-docs/stable/user_guide/indexing.html#returning-a-view-versus-a-copy\n",
            "  if sys.path[0] == '':\n",
            "/usr/local/lib/python3.6/dist-packages/ipykernel_launcher.py:13: SettingWithCopyWarning: \n",
            "A value is trying to be set on a copy of a slice from a DataFrame.\n",
            "Try using .loc[row_indexer,col_indexer] = value instead\n",
            "\n",
            "See the caveats in the documentation: http://pandas.pydata.org/pandas-docs/stable/user_guide/indexing.html#returning-a-view-versus-a-copy\n",
            "  del sys.path[0]\n"
          ],
          "name": "stderr"
        }
      ]
    },
    {
      "cell_type": "code",
      "metadata": {
        "id": "WQFOZVh2JHiV",
        "colab_type": "code",
        "colab": {}
      },
      "source": [
        "X_train.head(15).to_csv('/content/drive/My Drive/EAFIT/Data Structures and Algorithms I/lite.csv', sep=';')"
      ],
      "execution_count": 0,
      "outputs": []
    },
    {
      "cell_type": "code",
      "metadata": {
        "id": "dNjhYDllJeg_",
        "colab_type": "code",
        "colab": {}
      },
      "source": [
        ""
      ],
      "execution_count": 0,
      "outputs": []
    }
  ]
}